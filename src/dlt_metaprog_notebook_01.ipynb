{
 "cells": [
  {
   "cell_type": "markdown",
   "metadata": {
    "application/vnd.databricks.v1+cell": {
     "cellMetadata": {},
     "inputWidgets": {},
     "nuid": "f582c345-4fec-4027-9060-3d3e7e3d388d",
     "showTitle": false,
     "title": ""
    }
   },
   "source": [
    "## Metaprogramming in DLT\n",
    "This notebook demonstrates metaprogramming. Documentation for this technique can be found [here](https://learn.microsoft.com/en-us/azure/databricks/delta-live-tables/create-multiple-tables)."
   ]
  },
  {
   "cell_type": "code",
   "execution_count": null,
   "metadata": {},
   "outputs": [],
   "source": [
    "# Define metadata as collection of json dictionaries (Or could be a more complex object)\n",
    "# This allows you to pass multiple parameters to a function as a single object\n",
    "\n",
    "from dlt_functions import *\n",
    "import json\n",
    "\n",
    "task_metadata_file = f'{spark.conf.get(\"bundle.sourcePath\")}/task_metadata.json'\n",
    "metadata_batch = spark.conf.get(\"metadata_batch\")\n",
    "\n",
    "with open(task_metadata_file) as f:\n",
    "    task_metadata = json.load(f)"
   ]
  },
  {
   "cell_type": "code",
   "execution_count": null,
   "metadata": {
    "application/vnd.databricks.v1+cell": {
     "cellMetadata": {},
     "inputWidgets": {},
     "nuid": "b6ad8109-eff2-4564-9619-4b6ca627f184",
     "showTitle": false,
     "title": ""
    }
   },
   "outputs": [],
   "source": [
    "# Run function for each item in metadata collection\n",
    "# This determines the objects created in the pipeline\n",
    "\n",
    "[load_table(spark, t) for t in task_metadata if t['batch'] == metadata_batch]"
   ]
  }
 ],
 "metadata": {
  "application/vnd.databricks.v1+notebook": {
   "dashboards": [],
   "language": "python",
   "notebookMetadata": {
    "mostRecentlyExecutedCommandWithImplicitDF": {
     "commandId": 3416709542479203,
     "dataframes": [
      "_sqldf"
     ]
    },
    "pythonIndentUnit": 4
   },
   "notebookName": "dlt_notebook",
   "widgets": {}
  },
  "language_info": {
   "name": "python"
  }
 },
 "nbformat": 4,
 "nbformat_minor": 0
}
